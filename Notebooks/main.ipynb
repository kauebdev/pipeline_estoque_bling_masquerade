{
 "cells": [
  {
   "cell_type": "markdown",
   "id": "927e5e16",
   "metadata": {},
   "source": [
    "# libs "
   ]
  },
  {
   "cell_type": "code",
   "execution_count": 1,
   "id": "3f98e489",
   "metadata": {},
   "outputs": [],
   "source": [
    "import pandas as pd\n",
    "import selenium as sl \n",
    "import time "
   ]
  },
  {
   "cell_type": "markdown",
   "id": "5462dda3",
   "metadata": {},
   "source": [
    "# PIPE"
   ]
  },
  {
   "cell_type": "markdown",
   "id": "b063b1d9",
   "metadata": {},
   "source": [
    "## 1 - Coleta e Identificação da Origem dos Dados"
   ]
  },
  {
   "cell_type": "markdown",
   "id": "8287f258",
   "metadata": {},
   "source": [
    "### 1.1 Recebimento do arquivo de origem"
   ]
  },
  {
   "cell_type": "code",
   "execution_count": null,
   "id": "d0fe3357",
   "metadata": {},
   "outputs": [],
   "source": [
    "# checa a apsta e se achar um arquivo, pega o path extençaõ para usar, SE NAO TIVER AS EXTENSAO ACEITA RETORNA ERRO\n",
    "\n",
    "file_path = 'ESTOQUE MASUQUERADE.XLSX'\n",
    "file_ext = 'XSLX'"
   ]
  },
  {
   "cell_type": "markdown",
   "id": "7b926bfb",
   "metadata": {},
   "source": [
    "### 1.2 Classificação da Planilha (Tipo e Finalidade)\n"
   ]
  },
  {
   "cell_type": "code",
   "execution_count": null,
   "id": "21ad609f",
   "metadata": {},
   "outputs": [],
   "source": [
    "if file_ext == 'XSLX' or 'CSV':\n",
    "    df_prod_main = pd.read_excel(file_path, skiprows=1)\n",
    "elif file_ext == 'XML':\n",
    "    print(\"xml\")\n",
    "    # converter para DataFrame, extraindo apenas os campos úteis"
   ]
  },
  {
   "cell_type": "code",
   "execution_count": null,
   "id": "eb766919",
   "metadata": {},
   "outputs": [],
   "source": []
  }
 ],
 "metadata": {
  "kernelspec": {
   "display_name": "Python 3",
   "language": "python",
   "name": "python3"
  },
  "language_info": {
   "codemirror_mode": {
    "name": "ipython",
    "version": 3
   },
   "file_extension": ".py",
   "mimetype": "text/x-python",
   "name": "python",
   "nbconvert_exporter": "python",
   "pygments_lexer": "ipython3",
   "version": "3.11.9"
  }
 },
 "nbformat": 4,
 "nbformat_minor": 5
}
