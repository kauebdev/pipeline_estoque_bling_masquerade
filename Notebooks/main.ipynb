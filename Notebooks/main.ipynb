{
 "cells": [
  {
   "cell_type": "markdown",
   "id": "927e5e16",
   "metadata": {},
   "source": [
    "# libs "
   ]
  },
  {
   "cell_type": "code",
   "execution_count": null,
   "id": "3f98e489",
   "metadata": {},
   "outputs": [],
   "source": [
    "import pandas as pd"
   ]
  },
  {
   "cell_type": "markdown",
   "id": "5462dda3",
   "metadata": {},
   "source": [
    "# PIPE"
   ]
  },
  {
   "cell_type": "markdown",
   "id": "b063b1d9",
   "metadata": {},
   "source": [
    "## 1 - Coleta e Identificação da Origem dos Dados"
   ]
  },
  {
   "cell_type": "markdown",
   "id": "8287f258",
   "metadata": {},
   "source": [
    "### 1.1 Recebimento do arquivo de origem"
   ]
  },
  {
   "cell_type": "code",
   "execution_count": null,
   "id": "d0fe3357",
   "metadata": {},
   "outputs": [
    {
     "data": {
      "text/plain": [
       "'XLSX'"
      ]
     },
     "execution_count": 5,
     "metadata": {},
     "output_type": "execute_result"
    }
   ],
   "source": [
    "# checa a apsta e se achar um arquivo, pega o path extençaõ para usar, SE NAO TIVER AS EXTENSAO ACEITA RETORNA ERRO\n",
    "\n",
    "file_path = 'ESTOQUE MASUQUERADE.XLSX'\n",
    "file_ext = file_path[(file_path.find(\".\"))+1:]\n"
   ]
  },
  {
   "cell_type": "markdown",
   "id": "7b926bfb",
   "metadata": {},
   "source": [
    "### 1.2 Classificação da Planilha (Tipo e Finalidade)\n"
   ]
  },
  {
   "cell_type": "code",
   "execution_count": null,
   "id": "21ad609f",
   "metadata": {},
   "outputs": [],
   "source": [
    "from Scr.Extract import ReadArchive, ConvertXml_toExcel\n",
    "\n",
    "# ja esta fazendo o 2.3\n",
    "if file_ext == 'XSLX' or 'CSV': # vai direto\n",
    "    df_prod = ReadArchive(file_path, 1)\n",
    "    \n",
    "elif file_ext == 'XML': # converte e depois le\n",
    "    file_path = ConvertXml_toExcel(file_path)\n",
    "    df_prod = ReadArchive(file_path, 0)\n"
   ]
  },
  {
   "cell_type": "markdown",
   "id": "97bc192e",
   "metadata": {},
   "source": [
    "## 2. Classificação da Planilha (Tipo e Finalidade)\n"
   ]
  },
  {
   "cell_type": "markdown",
   "id": "00cbb2e1",
   "metadata": {},
   "source": [
    "### 2.1 Tipo de produto & 2.2 Tipo de movimentação"
   ]
  },
  {
   "cell_type": "code",
   "execution_count": null,
   "id": "04493e8e",
   "metadata": {},
   "outputs": [],
   "source": []
  }
 ],
 "metadata": {
  "kernelspec": {
   "display_name": "Python 3",
   "language": "python",
   "name": "python3"
  },
  "language_info": {
   "codemirror_mode": {
    "name": "ipython",
    "version": 3
   },
   "file_extension": ".py",
   "mimetype": "text/x-python",
   "name": "python",
   "nbconvert_exporter": "python",
   "pygments_lexer": "ipython3",
   "version": "3.11.9"
  }
 },
 "nbformat": 4,
 "nbformat_minor": 5
}
