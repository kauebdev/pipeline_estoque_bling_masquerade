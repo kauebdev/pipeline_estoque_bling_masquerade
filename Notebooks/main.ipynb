{
 "cells": [
  {
   "cell_type": "markdown",
   "id": "927e5e16",
   "metadata": {},
   "source": [
    "# libs "
   ]
  },
  {
   "cell_type": "code",
   "execution_count": null,
   "id": "3f98e489",
   "metadata": {},
   "outputs": [],
   "source": [
    "import pandas as pd"
   ]
  },
  {
   "cell_type": "markdown",
   "id": "5462dda3",
   "metadata": {},
   "source": [
    "# PIPE"
   ]
  },
  {
   "cell_type": "markdown",
   "id": "b063b1d9",
   "metadata": {},
   "source": [
    "## 1 - Coleta e Identificação da Origem dos Dados"
   ]
  },
  {
   "cell_type": "markdown",
   "id": "8287f258",
   "metadata": {},
   "source": [
    "### 1.1 Recebimento do arquivo de origem"
   ]
  },
  {
   "cell_type": "code",
   "execution_count": null,
   "id": "d0fe3357",
   "metadata": {},
   "outputs": [
    {
     "data": {
      "text/plain": [
       "'XLSX'"
      ]
     },
     "execution_count": 5,
     "metadata": {},
     "output_type": "execute_result"
    }
   ],
   "source": [
    "# checa a apsta e se achar um arquivo, pega o path extençaõ para usar, SE NAO TIVER AS EXTENSAO ACEITA RETORNA ERRO\n",
    "\n",
    "file_path = 'ESTOQUE MASUQUERADE.XLSX'\n",
    "file_ext = file_path[(file_path.find(\".\"))+1:]\n"
   ]
  },
  {
   "cell_type": "markdown",
   "id": "7b926bfb",
   "metadata": {},
   "source": [
    "### 1.2 Classificação da Planilha (Tipo e Finalidade)\n"
   ]
  },
  {
   "cell_type": "code",
   "execution_count": 30,
   "id": "21ad609f",
   "metadata": {},
   "outputs": [
    {
     "ename": "ModuleNotFoundError",
     "evalue": "No module named 'Scripts.Extract'",
     "output_type": "error",
     "traceback": [
      "\u001b[1;31m---------------------------------------------------------------------------\u001b[0m",
      "\u001b[1;31mModuleNotFoundError\u001b[0m                       Traceback (most recent call last)",
      "Cell \u001b[1;32mIn[30], line 1\u001b[0m\n\u001b[1;32m----> 1\u001b[0m \u001b[38;5;28;01mfrom\u001b[39;00m\u001b[38;5;250m \u001b[39m\u001b[38;5;21;01mScripts\u001b[39;00m\u001b[38;5;21;01m.\u001b[39;00m\u001b[38;5;21;01mExtract\u001b[39;00m\u001b[38;5;250m \u001b[39m\u001b[38;5;28;01mimport\u001b[39;00m ReadArchive, ConvertXml_toExcel\n\u001b[0;32m      3\u001b[0m \u001b[38;5;66;03m# ja esta fazendo o 2.3\u001b[39;00m\n\u001b[0;32m      4\u001b[0m \u001b[38;5;28;01mif\u001b[39;00m file_ext \u001b[38;5;241m==\u001b[39m \u001b[38;5;124m'\u001b[39m\u001b[38;5;124mXSLX\u001b[39m\u001b[38;5;124m'\u001b[39m \u001b[38;5;129;01mor\u001b[39;00m \u001b[38;5;124m'\u001b[39m\u001b[38;5;124mCSV\u001b[39m\u001b[38;5;124m'\u001b[39m: \u001b[38;5;66;03m# vai direto\u001b[39;00m\n",
      "\u001b[1;31mModuleNotFoundError\u001b[0m: No module named 'Scripts.Extract'"
     ]
    }
   ],
   "source": [
    "from Scripts.Extract import ReadArchive, ConvertXml_toExcel\n",
    "\n",
    "# ja esta fazendo o 2.3\n",
    "if file_ext == 'XSLX' or 'CSV': # vai direto\n",
    "    df_prod = ReadArchive(file_path, 1)\n",
    "    \n",
    "elif file_ext == 'XML': # converte e depois le\n",
    "    file_path = ConvertXml_toExcel(file_path)\n",
    "    df_prod = ReadArchive(file_path, 0)\n"
   ]
  },
  {
   "cell_type": "markdown",
   "id": "97bc192e",
   "metadata": {},
   "source": [
    "## 2. Classificação da Planilha (Tipo e Finalidade)\n"
   ]
  },
  {
   "cell_type": "markdown",
   "id": "00cbb2e1",
   "metadata": {},
   "source": [
    "### 2.1 Tipo de produto & 2.2 Tipo de movimentação"
   ]
  },
  {
   "cell_type": "code",
   "execution_count": null,
   "id": "04493e8e",
   "metadata": {},
   "outputs": [],
   "source": []
  },
  {
   "cell_type": "markdown",
   "id": "85735e23",
   "metadata": {},
   "source": [
    "## 4. 4. Transformação e Validação (Transform)\n",
    "### 4.1 Carregar produtos já existentes no Bling via API"
   ]
  },
  {
   "cell_type": "code",
   "execution_count": 27,
   "id": "adc84f83",
   "metadata": {},
   "outputs": [
    {
     "ename": "ModuleNotFoundError",
     "evalue": "No module named 'Scripts.Extract'",
     "output_type": "error",
     "traceback": [
      "\u001b[1;31m---------------------------------------------------------------------------\u001b[0m",
      "\u001b[1;31mModuleNotFoundError\u001b[0m                       Traceback (most recent call last)",
      "Cell \u001b[1;32mIn[27], line 1\u001b[0m\n\u001b[1;32m----> 1\u001b[0m \u001b[38;5;28;01mfrom\u001b[39;00m\u001b[38;5;250m \u001b[39m\u001b[38;5;21;01mScripts\u001b[39;00m\u001b[38;5;21;01m.\u001b[39;00m\u001b[38;5;21;01mExtract\u001b[39;00m\u001b[38;5;250m \u001b[39m\u001b[38;5;28;01mimport\u001b[39;00m GetProdutos, GetToken\n\u001b[0;32m      3\u001b[0m token \u001b[38;5;241m=\u001b[39m GetToken()\n\u001b[0;32m      4\u001b[0m df_prod_bling \u001b[38;5;241m=\u001b[39m GetProdutos(token)\n",
      "\u001b[1;31mModuleNotFoundError\u001b[0m: No module named 'Scripts.Extract'"
     ]
    }
   ],
   "source": [
    "from Scripts.Extract import GetProdutos, GetToken\n",
    "\n",
    "token = GetToken()\n",
    "df_prod_bling = GetProdutos(token)\n",
    "\n",
    "df_prod_bling"
   ]
  }
 ],
 "metadata": {
  "kernelspec": {
   "display_name": "Python 3",
   "language": "python",
   "name": "python3"
  },
  "language_info": {
   "codemirror_mode": {
    "name": "ipython",
    "version": 3
   },
   "file_extension": ".py",
   "mimetype": "text/x-python",
   "name": "python",
   "nbconvert_exporter": "python",
   "pygments_lexer": "ipython3",
   "version": "3.10.11"
  }
 },
 "nbformat": 4,
 "nbformat_minor": 5
}
