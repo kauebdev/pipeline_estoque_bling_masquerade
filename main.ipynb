{
 "cells": [
  {
   "cell_type": "markdown",
   "id": "e7d5f0d3",
   "metadata": {},
   "source": [
    "-\n"
   ]
  },
  {
   "cell_type": "markdown",
   "id": "927e5e16",
   "metadata": {},
   "source": [
    "# libs "
   ]
  },
  {
   "cell_type": "code",
   "execution_count": null,
   "id": "3f98e489",
   "metadata": {},
   "outputs": [],
   "source": []
  },
  {
   "cell_type": "markdown",
   "id": "d39ab9b4",
   "metadata": {},
   "source": [
    "# 1 - extract\n"
   ]
  },
  {
   "cell_type": "code",
   "execution_count": null,
   "id": "072ceeba",
   "metadata": {},
   "outputs": [],
   "source": []
  },
  {
   "cell_type": "markdown",
   "id": "17e67bdd",
   "metadata": {},
   "source": [
    "# 2 - padronização"
   ]
  },
  {
   "cell_type": "code",
   "execution_count": null,
   "id": "118430c6",
   "metadata": {},
   "outputs": [],
   "source": []
  },
  {
   "cell_type": "markdown",
   "id": "4728967f",
   "metadata": {},
   "source": [
    "# 3 - teste 1: codigos batem"
   ]
  },
  {
   "cell_type": "code",
   "execution_count": null,
   "id": "d7615801",
   "metadata": {},
   "outputs": [],
   "source": []
  },
  {
   "cell_type": "markdown",
   "id": "6832fbc2",
   "metadata": {},
   "source": [
    "# 4 - teste 2: arrrumar codigos\n"
   ]
  },
  {
   "cell_type": "code",
   "execution_count": null,
   "id": "8aec78ab",
   "metadata": {},
   "outputs": [],
   "source": []
  },
  {
   "cell_type": "markdown",
   "id": "13c1865c",
   "metadata": {},
   "source": [
    "# 5 - final: fazer automoção no estoque "
   ]
  },
  {
   "cell_type": "code",
   "execution_count": null,
   "id": "397c9e86",
   "metadata": {},
   "outputs": [],
   "source": []
  },
  {
   "cell_type": "markdown",
   "id": "560e2e4a",
   "metadata": {},
   "source": [
    "# 6 - guardar resultados"
   ]
  },
  {
   "cell_type": "code",
   "execution_count": null,
   "id": "9a514044",
   "metadata": {},
   "outputs": [],
   "source": []
  },
  {
   "cell_type": "markdown",
   "id": "92da8047",
   "metadata": {},
   "source": []
  }
 ],
 "metadata": {
  "kernelspec": {
   "display_name": "Python 3",
   "language": "python",
   "name": "python3"
  },
  "language_info": {
   "codemirror_mode": {
    "name": "ipython",
    "version": 3
   },
   "file_extension": ".py",
   "mimetype": "text/x-python",
   "name": "python",
   "nbconvert_exporter": "python",
   "pygments_lexer": "ipython3",
   "version": "3.11.9"
  }
 },
 "nbformat": 4,
 "nbformat_minor": 5
}
